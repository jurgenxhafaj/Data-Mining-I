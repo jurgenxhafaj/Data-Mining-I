{
 "cells": [
  {
   "cell_type": "markdown",
   "metadata": {},
   "source": [
    "# Pedro is awesome!\n",
    "##### to show text instead of having to comment, (hit escape, m, enter, # (# big, ## medium, ### small), make sure there is a space after hashtag)"
   ]
  },
  {
   "cell_type": "markdown",
   "metadata": {},
   "source": [
    "# Log of parameters and accuracy %"
   ]
  },
  {
   "cell_type": "markdown",
   "metadata": {},
   "source": [
    "\n",
    "\n",
    "<br> first try 41.79% (with Paranormal Activity and Blur Witch Project)\n",
    "### That was lame. But I got it to work, and I am happy with my progress.\n",
    "<br> second try 38.21% (removed P.A. and B.W.P)\n",
    "<br>third try 35.45% (removed P.A. and B.W.P)\n",
    "<br>fourth try 40% (removed them and changed financial success to 60%)\n",
    "<br>fifth try 35.61% (removed them and changed financial success to 80%)\n",
    "<br>sixth try 39.51% (keep PA and BWP and financial success 60%)\n",
    "<br>seventh try 40% (Keep PA and BWP and financial success 40%)\n",
    "<br>eighth try 40.02% (same as above, but change training to 70%)\n",
    "<br>ninth try 39.91% (keep PA, BWP, 50/50, 70% train)\n",
    "<br>try to change train to 50%, we get 41.31 % accuracy, but with high variance.\n",
    "<br>tenth try let max coef < 180 (which excludes 10ish extra data points), this gives 36.91% accuracy \n",
    "#### Let us keep all the data and lower the budget and revenue cap to 100 dollars, this gives 39.02% accuracy\n",
    "<br>11th try is 39.51%\n",
    "<br>when depth=4, we get 40%\n",
    "<br>when depth=5, we get 40.48%\n",
    "<br>when depth=6, we get 40%\n",
    "<br>when depth=7, we get 39.51%\n",
    "#### It seems like optimal accuracy is for depth=5. We keep the cap of 1000 on revenue and budget.\n",
    "#### Now we change the n_estimators (ne) (default was 100)\n",
    "<br>when ne=5, we get 40.16%\n",
    "<br>when ne=50, we get 40.65%\n",
    "<br>when ne=200, we get 40.49%\n",
    "<br>when ne=1000, we get 40.33% \n",
    "<br> For depth=9 and ne=1000, accuracy is 40%\n",
    "<br> For depth=10 and ne=1000, accuracy goes up to 43.73%\n",
    "<br> For depth=15 and ne=1000, accuracy is 40.32%\n",
    "##### Note that all this data was separated in 30th and 70th percentile, so I changed that to see if I get a higher accuracy %\n"
   ]
  },
  {
   "cell_type": "markdown",
   "metadata": {},
   "source": [
    "### Let us try cutting the line at 20th and 95th percentiles for success)\n",
    "## We got 74.63%! OH MY GOD!\n",
    "#### We get 70.1% when cutting the line at 20th and 90th percentiles for success.\n",
    "\n",
    "# We get 84.23% accuracy when cutting the line at 10th and 95th percentiles for success!\n",
    "\n",
    "### Below, I have some notes I wrote during the project, as comments."
   ]
  },
  {
   "cell_type": "code",
   "execution_count": null,
   "metadata": {
    "collapsed": true
   },
   "outputs": [],
   "source": [
    "# predicted ~ \n",
    "#actors (high impact)\n",
    "#prod company (high impact)\n",
    "#genre (high impact)\n",
    "\n",
    "#must do, but the public doesn't usually care\n",
    "#keywords (remove some useless ones)\n",
    "\n",
    "# not sure\n",
    "# title, it is probably going to be useless, because it is too short and there are few repetitions\n",
    "# exceptions: cases of sequences \"Toy Story 2 3 4 5 6 ....\"\n",
    "# use TDIDF vectorizer if using title\n",
    "\n",
    "# trees target : \n",
    "\n",
    "### add k fold cross validation\n",
    "# use the built in for the previous line\n",
    "\n",
    "\n",
    "#optional, because nobody really reads these\n",
    "#tagline (remove some useless ones)\n",
    "#overview (remove some useless ones)"
   ]
  },
  {
   "cell_type": "code",
   "execution_count": null,
   "metadata": {
    "collapsed": true
   },
   "outputs": [],
   "source": []
  }
 ],
 "metadata": {
  "kernelspec": {
   "display_name": "Python 3",
   "language": "python",
   "name": "python3"
  },
  "language_info": {
   "codemirror_mode": {
    "name": "ipython",
    "version": 3
   },
   "file_extension": ".py",
   "mimetype": "text/x-python",
   "name": "python",
   "nbconvert_exporter": "python",
   "pygments_lexer": "ipython3",
   "version": "3.7.1"
  }
 },
 "nbformat": 4,
 "nbformat_minor": 2
}
