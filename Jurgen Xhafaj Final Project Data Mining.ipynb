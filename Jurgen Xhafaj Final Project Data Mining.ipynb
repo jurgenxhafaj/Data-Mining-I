{
 "cells": [
  {
   "cell_type": "markdown",
   "metadata": {},
   "source": [
    "#### Data Mining I - Fall 2017"
   ]
  },
  {
   "cell_type": "markdown",
   "metadata": {
    "collapsed": true
   },
   "source": [
    "##  Data Mining Final Project - Jurgen Xhafaj"
   ]
  },
  {
   "cell_type": "markdown",
   "metadata": {},
   "source": [
    "<br> Here, consider a movie set, called TMDB Movie set (initial nr of movies~4800). \n",
    "<br> The data given to us will be pre-release, and we want to predict the success of a movie based on actor, production company, and genre of the movie.\n",
    "<br> On this Jupyter Notebook, you will see the process we followed to get to the given results.\n",
    "<br> We will be using two different input files, one has the movies and stats, other has credits."
   ]
  },
  {
   "cell_type": "markdown",
   "metadata": {
    "collapsed": true
   },
   "source": [
    "<br> First, we import the movie dataset, as well as some tools that we will need on the way. This includes the given setup file from Dr. Scott Cook."
   ]
  },
  {
   "cell_type": "code",
   "execution_count": 11,
   "metadata": {
    "collapsed": true
   },
   "outputs": [],
   "source": [
    "from sklearn import preprocessing\n",
    "import pandas as pd\n",
    "import numpy as np\n",
    "from setup import *"
   ]
  },
  {
   "cell_type": "code",
   "execution_count": 12,
   "metadata": {
    "collapsed": true
   },
   "outputs": [],
   "source": [
    "csv_path=\"movies.csv\"\n",
    "df=pd.read_csv(csv_path, encoding='utf8')"
   ]
  },
  {
   "cell_type": "markdown",
   "metadata": {},
   "source": [
    "### For the first part of this project, we will be using these columns:"
   ]
  },
  {
   "cell_type": "code",
   "execution_count": 13,
   "metadata": {},
   "outputs": [
    {
     "data": {
      "text/html": [
       "<div>\n",
       "<style>\n",
       "    .dataframe thead tr:only-child th {\n",
       "        text-align: right;\n",
       "    }\n",
       "\n",
       "    .dataframe thead th {\n",
       "        text-align: left;\n",
       "    }\n",
       "\n",
       "    .dataframe tbody tr th {\n",
       "        vertical-align: top;\n",
       "    }\n",
       "</style>\n",
       "<table border=\"1\" class=\"dataframe\">\n",
       "  <thead>\n",
       "    <tr style=\"text-align: right;\">\n",
       "      <th></th>\n",
       "      <th>title</th>\n",
       "      <th>budget</th>\n",
       "      <th>revenue</th>\n",
       "    </tr>\n",
       "  </thead>\n",
       "  <tbody>\n",
       "    <tr>\n",
       "      <th>0</th>\n",
       "      <td>Avatar</td>\n",
       "      <td>237000000</td>\n",
       "      <td>2787965087</td>\n",
       "    </tr>\n",
       "    <tr>\n",
       "      <th>1</th>\n",
       "      <td>Pirates of the Caribbean: At World's End</td>\n",
       "      <td>300000000</td>\n",
       "      <td>961000000</td>\n",
       "    </tr>\n",
       "    <tr>\n",
       "      <th>2</th>\n",
       "      <td>Spectre</td>\n",
       "      <td>245000000</td>\n",
       "      <td>880674609</td>\n",
       "    </tr>\n",
       "    <tr>\n",
       "      <th>3</th>\n",
       "      <td>The Dark Knight Rises</td>\n",
       "      <td>250000000</td>\n",
       "      <td>1084939099</td>\n",
       "    </tr>\n",
       "    <tr>\n",
       "      <th>4</th>\n",
       "      <td>John Carter</td>\n",
       "      <td>260000000</td>\n",
       "      <td>284139100</td>\n",
       "    </tr>\n",
       "  </tbody>\n",
       "</table>\n",
       "<p>5 rows × 3 columns</p>\n",
       "</div>"
      ],
      "text/plain": [
       "                                      title     budget     revenue\n",
       "0                                    Avatar  237000000  2787965087\n",
       "1  Pirates of the Caribbean: At World's End  300000000   961000000\n",
       "2                                   Spectre  245000000   880674609\n",
       "3                     The Dark Knight Rises  250000000  1084939099\n",
       "4                               John Carter  260000000   284139100\n",
       "\n",
       "[5 rows x 3 columns]"
      ]
     },
     "execution_count": 13,
     "metadata": {},
     "output_type": "execute_result"
    }
   ],
   "source": [
    "df[['title','budget','revenue']].head()"
   ]
  },
  {
   "cell_type": "markdown",
   "metadata": {},
   "source": [
    "### Let us build a new column that show the ratio revenue/budget for original dataframe:"
   ]
  },
  {
   "cell_type": "code",
   "execution_count": 14,
   "metadata": {
    "scrolled": true
   },
   "outputs": [
    {
     "data": {
      "text/plain": [
       "0   11.764\n",
       "1    3.203\n",
       "2    3.595\n",
       "3    4.340\n",
       "4    1.093\n",
       "Name: new_col, Length: 5, dtype: float64"
      ]
     },
     "execution_count": 14,
     "metadata": {},
     "output_type": "execute_result"
    }
   ],
   "source": [
    "df['new_col']=df['revenue']/df['budget']\n",
    "df['new_col'].head(5)"
   ]
  },
  {
   "cell_type": "markdown",
   "metadata": {},
   "source": [
    "### The maximal value is below:"
   ]
  },
  {
   "cell_type": "code",
   "execution_count": 15,
   "metadata": {},
   "outputs": [
    {
     "data": {
      "text/plain": [
       "inf"
      ]
     },
     "execution_count": 15,
     "metadata": {},
     "output_type": "execute_result"
    }
   ],
   "source": [
    "df['new_col'].max()"
   ]
  },
  {
   "cell_type": "markdown",
   "metadata": {},
   "source": [
    "#### Of course it's infinity, since there are entries with rev>0 and budget=0...\n",
    "#### Below are the first 3 rows with budget=0 :"
   ]
  },
  {
   "cell_type": "code",
   "execution_count": 16,
   "metadata": {},
   "outputs": [
    {
     "data": {
      "text/html": [
       "<div>\n",
       "<style>\n",
       "    .dataframe thead tr:only-child th {\n",
       "        text-align: right;\n",
       "    }\n",
       "\n",
       "    .dataframe thead th {\n",
       "        text-align: left;\n",
       "    }\n",
       "\n",
       "    .dataframe tbody tr th {\n",
       "        vertical-align: top;\n",
       "    }\n",
       "</style>\n",
       "<table border=\"1\" class=\"dataframe\">\n",
       "  <thead>\n",
       "    <tr style=\"text-align: right;\">\n",
       "      <th></th>\n",
       "      <th>budget</th>\n",
       "      <th>title</th>\n",
       "    </tr>\n",
       "  </thead>\n",
       "  <tbody>\n",
       "    <tr>\n",
       "      <th>265</th>\n",
       "      <td>0</td>\n",
       "      <td>The Cat in the Hat</td>\n",
       "    </tr>\n",
       "    <tr>\n",
       "      <th>321</th>\n",
       "      <td>0</td>\n",
       "      <td>The Campaign</td>\n",
       "    </tr>\n",
       "    <tr>\n",
       "      <th>359</th>\n",
       "      <td>0</td>\n",
       "      <td>Alvin and the Chipmunks: The Road Chip</td>\n",
       "    </tr>\n",
       "  </tbody>\n",
       "</table>\n",
       "<p>3 rows × 2 columns</p>\n",
       "</div>"
      ],
      "text/plain": [
       "     budget                                   title\n",
       "265       0                      The Cat in the Hat\n",
       "321       0                            The Campaign\n",
       "359       0  Alvin and the Chipmunks: The Road Chip\n",
       "\n",
       "[3 rows x 2 columns]"
      ]
     },
     "execution_count": 16,
     "metadata": {},
     "output_type": "execute_result"
    }
   ],
   "source": [
    "dfempty=df[df['budget']<1]\n",
    "dfempty[['budget','title']].head(3)"
   ]
  },
  {
   "cell_type": "markdown",
   "metadata": {
    "collapsed": true
   },
   "source": [
    "#### Next, I would like to build a histogram with these entries of new_col, but I get an error. \n",
    "#### That is because those inf terms should be removed (division by zero)."
   ]
  },
  {
   "cell_type": "markdown",
   "metadata": {},
   "source": [
    "### Let us look at a movie whose revenue is zero, then we check it online.\n",
    "##### Scroll right a little bit to see the \"Revenue\" Column."
   ]
  },
  {
   "cell_type": "code",
   "execution_count": 17,
   "metadata": {
    "scrolled": true
   },
   "outputs": [
    {
     "data": {
      "text/html": [
       "<div>\n",
       "<style>\n",
       "    .dataframe thead tr:only-child th {\n",
       "        text-align: right;\n",
       "    }\n",
       "\n",
       "    .dataframe thead th {\n",
       "        text-align: left;\n",
       "    }\n",
       "\n",
       "    .dataframe tbody tr th {\n",
       "        vertical-align: top;\n",
       "    }\n",
       "</style>\n",
       "<table border=\"1\" class=\"dataframe\">\n",
       "  <thead>\n",
       "    <tr style=\"text-align: right;\">\n",
       "      <th></th>\n",
       "      <th>title</th>\n",
       "      <th>revenue</th>\n",
       "    </tr>\n",
       "  </thead>\n",
       "  <tbody>\n",
       "    <tr>\n",
       "      <th>82</th>\n",
       "      <td>Dawn of the Planet of the Apes</td>\n",
       "      <td>710644566</td>\n",
       "    </tr>\n",
       "    <tr>\n",
       "      <th>83</th>\n",
       "      <td>The Lovers</td>\n",
       "      <td>0</td>\n",
       "    </tr>\n",
       "    <tr>\n",
       "      <th>84</th>\n",
       "      <td>47 Ronin</td>\n",
       "      <td>150962475</td>\n",
       "    </tr>\n",
       "  </tbody>\n",
       "</table>\n",
       "<p>3 rows × 2 columns</p>\n",
       "</div>"
      ],
      "text/plain": [
       "                             title    revenue\n",
       "82  Dawn of the Planet of the Apes  710644566\n",
       "83                      The Lovers          0\n",
       "84                        47 Ronin  150962475\n",
       "\n",
       "[3 rows x 2 columns]"
      ]
     },
     "execution_count": 17,
     "metadata": {},
     "output_type": "execute_result"
    }
   ],
   "source": [
    "df[['title','revenue']][82:85]"
   ]
  },
  {
   "cell_type": "markdown",
   "metadata": {
    "collapsed": true
   },
   "source": [
    "<br> After checking online, the budget for The Lovers is 2.10million dollars, which suggests these zeroes are missing data. At this point, we do not wish to add average revenue to zeroes because that would manipulate our data very heavily. Especially, considering that there are around 1000 movies with revenue=0 (unknown), the impact would be high.Therefore, we clean the data with revenue less than 1000."
   ]
  },
  {
   "cell_type": "markdown",
   "metadata": {
    "collapsed": true
   },
   "source": [
    "#### Below, we do the first part of cleaning the data, by taking out the entries with revenue below 1000.\n",
    "<br> This action was motivated from the fact that there is a big disparity between those values and the rest."
   ]
  },
  {
   "cell_type": "code",
   "execution_count": 18,
   "metadata": {
    "scrolled": true
   },
   "outputs": [
    {
     "data": {
      "text/html": [
       "<div>\n",
       "<style>\n",
       "    .dataframe thead tr:only-child th {\n",
       "        text-align: right;\n",
       "    }\n",
       "\n",
       "    .dataframe thead th {\n",
       "        text-align: left;\n",
       "    }\n",
       "\n",
       "    .dataframe tbody tr th {\n",
       "        vertical-align: top;\n",
       "    }\n",
       "</style>\n",
       "<table border=\"1\" class=\"dataframe\">\n",
       "  <thead>\n",
       "    <tr style=\"text-align: right;\">\n",
       "      <th></th>\n",
       "      <th>title</th>\n",
       "      <th>revenue</th>\n",
       "    </tr>\n",
       "  </thead>\n",
       "  <tbody>\n",
       "    <tr>\n",
       "      <th>82</th>\n",
       "      <td>Dawn of the Planet of the Apes</td>\n",
       "      <td>710644566</td>\n",
       "    </tr>\n",
       "    <tr>\n",
       "      <th>84</th>\n",
       "      <td>47 Ronin</td>\n",
       "      <td>150962475</td>\n",
       "    </tr>\n",
       "  </tbody>\n",
       "</table>\n",
       "<p>2 rows × 2 columns</p>\n",
       "</div>"
      ],
      "text/plain": [
       "                             title    revenue\n",
       "82  Dawn of the Planet of the Apes  710644566\n",
       "84                        47 Ronin  150962475\n",
       "\n",
       "[2 rows x 2 columns]"
      ]
     },
     "execution_count": 18,
     "metadata": {},
     "output_type": "execute_result"
    }
   ],
   "source": [
    "dfclean1=df[df['revenue']>1000]\n",
    "dfclean1[['title','revenue']][82:84]"
   ]
  },
  {
   "cell_type": "markdown",
   "metadata": {},
   "source": [
    "<br> On the initial file, there is \"The Lovers\" in between these two (line 85 on Excel) but here it's been cleaned.\n",
    "### Below, we do the second part of cleaning the data, by taking out the entries with budget below 1000.\n",
    "<br> This action was motivated from the fact that there is a big disparity between those values and the rest.\n",
    "<br> This is what it would look like on the original data frame that we imported. Notice how budget is shown as zero for \"The Cat in the Hat\"."
   ]
  },
  {
   "cell_type": "code",
   "execution_count": 19,
   "metadata": {},
   "outputs": [
    {
     "data": {
      "text/html": [
       "<div>\n",
       "<style>\n",
       "    .dataframe thead tr:only-child th {\n",
       "        text-align: right;\n",
       "    }\n",
       "\n",
       "    .dataframe thead th {\n",
       "        text-align: left;\n",
       "    }\n",
       "\n",
       "    .dataframe tbody tr th {\n",
       "        vertical-align: top;\n",
       "    }\n",
       "</style>\n",
       "<table border=\"1\" class=\"dataframe\">\n",
       "  <thead>\n",
       "    <tr style=\"text-align: right;\">\n",
       "      <th></th>\n",
       "      <th>title</th>\n",
       "      <th>budget</th>\n",
       "    </tr>\n",
       "  </thead>\n",
       "  <tbody>\n",
       "    <tr>\n",
       "      <th>264</th>\n",
       "      <td>Ali</td>\n",
       "      <td>107000000</td>\n",
       "    </tr>\n",
       "    <tr>\n",
       "      <th>265</th>\n",
       "      <td>The Cat in the Hat</td>\n",
       "      <td>0</td>\n",
       "    </tr>\n",
       "    <tr>\n",
       "      <th>266</th>\n",
       "      <td>I, Robot</td>\n",
       "      <td>120000000</td>\n",
       "    </tr>\n",
       "  </tbody>\n",
       "</table>\n",
       "<p>3 rows × 2 columns</p>\n",
       "</div>"
      ],
      "text/plain": [
       "                  title     budget\n",
       "264                 Ali  107000000\n",
       "265  The Cat in the Hat          0\n",
       "266            I, Robot  120000000\n",
       "\n",
       "[3 rows x 2 columns]"
      ]
     },
     "execution_count": 19,
     "metadata": {},
     "output_type": "execute_result"
    }
   ],
   "source": [
    "df[['title','budget']][264:267]"
   ]
  },
  {
   "cell_type": "code",
   "execution_count": 20,
   "metadata": {
    "scrolled": false
   },
   "outputs": [
    {
     "data": {
      "text/html": [
       "<div>\n",
       "<style>\n",
       "    .dataframe thead tr:only-child th {\n",
       "        text-align: right;\n",
       "    }\n",
       "\n",
       "    .dataframe thead th {\n",
       "        text-align: left;\n",
       "    }\n",
       "\n",
       "    .dataframe tbody tr th {\n",
       "        vertical-align: top;\n",
       "    }\n",
       "</style>\n",
       "<table border=\"1\" class=\"dataframe\">\n",
       "  <thead>\n",
       "    <tr style=\"text-align: right;\">\n",
       "      <th></th>\n",
       "      <th>title</th>\n",
       "      <th>budget</th>\n",
       "    </tr>\n",
       "  </thead>\n",
       "  <tbody>\n",
       "    <tr>\n",
       "      <th>264</th>\n",
       "      <td>Ali</td>\n",
       "      <td>107000000</td>\n",
       "    </tr>\n",
       "    <tr>\n",
       "      <th>266</th>\n",
       "      <td>I, Robot</td>\n",
       "      <td>120000000</td>\n",
       "    </tr>\n",
       "  </tbody>\n",
       "</table>\n",
       "<p>2 rows × 2 columns</p>\n",
       "</div>"
      ],
      "text/plain": [
       "        title     budget\n",
       "264       Ali  107000000\n",
       "266  I, Robot  120000000\n",
       "\n",
       "[2 rows x 2 columns]"
      ]
     },
     "execution_count": 20,
     "metadata": {},
     "output_type": "execute_result"
    }
   ],
   "source": [
    "dfclean2=dfclean1[dfclean1['budget']>1000]\n",
    "dfclean2[['title','budget']][262:264]"
   ]
  },
  {
   "cell_type": "markdown",
   "metadata": {},
   "source": [
    "<br> This works because \"The Cat in the Hat\" has been excluded from the list and the budget for it is zero, whereas in reality, the budget was actually 109 million dollars.\n",
    "#### Next, we create a new column (coef) on our clean data, which will represent the ratio revenue/budget."
   ]
  },
  {
   "cell_type": "code",
   "execution_count": 21,
   "metadata": {
    "scrolled": true
   },
   "outputs": [
    {
     "name": "stderr",
     "output_type": "stream",
     "text": [
      "C:\\ProgramData\\Anaconda3\\lib\\site-packages\\ipykernel_launcher.py:1: SettingWithCopyWarning: \n",
      "A value is trying to be set on a copy of a slice from a DataFrame.\n",
      "Try using .loc[row_indexer,col_indexer] = value instead\n",
      "\n",
      "See the caveats in the documentation: http://pandas.pydata.org/pandas-docs/stable/indexing.html#indexing-view-versus-copy\n",
      "  \"\"\"Entry point for launching an IPython kernel.\n"
     ]
    },
    {
     "data": {
      "text/plain": [
       "0   11.764\n",
       "1    3.203\n",
       "2    3.595\n",
       "3    4.340\n",
       "4    1.093\n",
       "Name: coef, Length: 5, dtype: float64"
      ]
     },
     "execution_count": 21,
     "metadata": {},
     "output_type": "execute_result"
    }
   ],
   "source": [
    "dfclean2['coef']=dfclean2['revenue']/df['budget']\n",
    "dfclean2['coef'].head(5)"
   ]
  },
  {
   "cell_type": "markdown",
   "metadata": {},
   "source": [
    "#### The lowest values seem to be fairly close to one another, so we do not need to remove outliers."
   ]
  },
  {
   "cell_type": "code",
   "execution_count": 22,
   "metadata": {
    "scrolled": true
   },
   "outputs": [
    {
     "data": {
      "text/plain": [
       "[0.00025596000000000001,\n",
       " 0.00087394999999999997,\n",
       " 0.00090689999999999998,\n",
       " 0.0011339384615384614,\n",
       " 0.0013586666666666667,\n",
       " 0.0015333333333333334,\n",
       " 0.0015857142857142858,\n",
       " 0.0017472,\n",
       " 0.0033210714285714284,\n",
       " 0.0036116]"
      ]
     },
     "execution_count": 22,
     "metadata": {},
     "output_type": "execute_result"
    }
   ],
   "source": [
    "sorted(dfclean2['new_col'], reverse=False)[:10]"
   ]
  },
  {
   "cell_type": "markdown",
   "metadata": {},
   "source": [
    "#### The top values have two very obvious outliers, which we will have to remove."
   ]
  },
  {
   "cell_type": "code",
   "execution_count": 23,
   "metadata": {
    "scrolled": false
   },
   "outputs": [
    {
     "data": {
      "text/plain": [
       "[12890.386666666667,\n",
       " 4133.333333333333,\n",
       " 700.0,\n",
       " 500.0,\n",
       " 439.61658461538462,\n",
       " 426.64409999999998,\n",
       " 420.52272307692306,\n",
       " 363.04705882352943,\n",
       " 311.70996503496502,\n",
       " 270.0]"
      ]
     },
     "execution_count": 23,
     "metadata": {},
     "output_type": "execute_result"
    }
   ],
   "source": [
    "sorted(dfclean2['new_col'], reverse=True)[:10]"
   ]
  },
  {
   "cell_type": "markdown",
   "metadata": {},
   "source": [
    "<sr> Below, we clean the first two values because they are outliers. We call the new dataframe dfclean3."
   ]
  },
  {
   "cell_type": "code",
   "execution_count": 24,
   "metadata": {
    "collapsed": true
   },
   "outputs": [],
   "source": [
    "dfclean3=dfclean2[dfclean2['new_col']<4000]"
   ]
  },
  {
   "cell_type": "markdown",
   "metadata": {
    "collapsed": true
   },
   "source": [
    "#### Using dfclean2 from previous steps, it is interesting to find out which movie has the maximal coefficient, which would skew our data a lot for later use, so we took it away from the dataframe."
   ]
  },
  {
   "cell_type": "code",
   "execution_count": 25,
   "metadata": {
    "scrolled": true
   },
   "outputs": [
    {
     "data": {
      "text/plain": [
       "budget                                                              15000\n",
       "genres                  [{\"id\": 27, \"name\": \"Horror\"}, {\"id\": 9648, \"n...\n",
       "homepage                         http://www.paranormalactivity-movie.com/\n",
       "id                                                                  23827\n",
       "keywords                [{\"id\": 10224, \"name\": \"haunting\"}, {\"id\": 147...\n",
       "original_language                                                      en\n",
       "original_title                                        Paranormal Activity\n",
       "overview                After a young, middle class couple moves into ...\n",
       "popularity                                                         47.457\n",
       "production_companies    [{\"name\": \"Blumhouse Productions\", \"id\": 3172}...\n",
       "production_countries    [{\"iso_3166_1\": \"US\", \"name\": \"United States o...\n",
       "release_date                                                    9/14/2007\n",
       "revenue                                                         193355800\n",
       "runtime                                                            86.000\n",
       "spoken_languages                 [{\"iso_639_1\": \"en\", \"name\": \"English\"}]\n",
       "status                                                           Released\n",
       "tagline                                      What Happens When You Sleep?\n",
       "title                                                 Paranormal Activity\n",
       "vote_average                                                        5.900\n",
       "vote_count                                                           1316\n",
       "new_col                                                         12890.387\n",
       "coef                                                            12890.387\n",
       "Name: 4577, Length: 22, dtype: object"
      ]
     },
     "execution_count": 25,
     "metadata": {},
     "output_type": "execute_result"
    }
   ],
   "source": [
    "maximum = np.argmax(dfclean2['new_col'])\n",
    "dfclean2.loc[maximum]"
   ]
  },
  {
   "cell_type": "markdown",
   "metadata": {},
   "source": [
    "#### Apparently the best performing one is Paranormal Activity.\n",
    "<br> Let us have a look at the minimum value, which represents the movie that had the least financial success :("
   ]
  },
  {
   "cell_type": "code",
   "execution_count": 26,
   "metadata": {},
   "outputs": [
    {
     "data": {
      "text/plain": [
       "budget                                                           25000000\n",
       "genres                  [{\"id\": 14, \"name\": \"Fantasy\"}, {\"id\": 12, \"na...\n",
       "homepage                                                              NaN\n",
       "id                                                                 227707\n",
       "keywords                [{\"id\": 212, \"name\": \"london england\"}, {\"id\":...\n",
       "original_language                                                      en\n",
       "original_title                 The Adventurer: The Curse of the Midas Box\n",
       "overview                17-year-old Mariah Mundi's life is turned upsi...\n",
       "popularity                                                          8.843\n",
       "production_companies    [{\"name\": \"Matador Pictures\", \"id\": 707}, {\"na...\n",
       "production_countries    [{\"iso_3166_1\": \"BE\", \"name\": \"Belgium\"}, {\"is...\n",
       "release_date                                                    12/5/2013\n",
       "revenue                                                              6399\n",
       "runtime                                                            99.000\n",
       "spoken_languages                 [{\"iso_639_1\": \"en\", \"name\": \"English\"}]\n",
       "status                                                           Released\n",
       "tagline                                       The new name for adventure.\n",
       "title                          The Adventurer: The Curse of the Midas Box\n",
       "vote_average                                                        5.100\n",
       "vote_count                                                             73\n",
       "new_col                                                             0.000\n",
       "coef                                                                0.000\n",
       "Name: 1999, Length: 22, dtype: object"
      ]
     },
     "execution_count": 26,
     "metadata": {},
     "output_type": "execute_result"
    }
   ],
   "source": [
    "minimum = np.argmin(dfclean2['new_col'])\n",
    "dfclean2.loc[minimum]"
   ]
  },
  {
   "cell_type": "markdown",
   "metadata": {
    "collapsed": true
   },
   "source": [
    "#### The movie with lowest financial coefficient was \"The Adventurer: The Curse of the Midas Box\".\n",
    "<br> Let us normalize the coefficients from dfclean3 ,by using a function from preprocessing."
   ]
  },
  {
   "cell_type": "code",
   "execution_count": 27,
   "metadata": {
    "scrolled": true
   },
   "outputs": [
    {
     "name": "stderr",
     "output_type": "stream",
     "text": [
      "C:\\ProgramData\\Anaconda3\\lib\\site-packages\\sklearn\\utils\\validation.py:395: DeprecationWarning: Passing 1d arrays as data is deprecated in 0.17 and will raise ValueError in 0.19. Reshape your data either using X.reshape(-1, 1) if your data has a single feature or X.reshape(1, -1) if it contains a single sample.\n",
      "  DeprecationWarning)\n"
     ]
    },
    {
     "data": {
      "text/plain": [
       "(array([[ 0.01680509,  0.00457619,  0.00513513, ...,  0.00707143,\n",
       "          0.08668571,  0.01325273]]), array([ 700.]))"
      ]
     },
     "execution_count": 27,
     "metadata": {},
     "output_type": "execute_result"
    }
   ],
   "source": [
    "a=dfclean3['new_col']\n",
    "preprocessing.normalize(a, norm='max' , axis=1, copy=False, return_norm=True)"
   ]
  },
  {
   "cell_type": "markdown",
   "metadata": {},
   "source": [
    "#### The new top (normalized) coefficients are:"
   ]
  },
  {
   "cell_type": "code",
   "execution_count": 28,
   "metadata": {
    "scrolled": true
   },
   "outputs": [
    {
     "data": {
      "text/plain": [
       "[1.0,\n",
       " 0.7142857142857143,\n",
       " 0.62802369230769228,\n",
       " 0.60949157142857135,\n",
       " 0.60074674725274724,\n",
       " 0.51863865546218491,\n",
       " 0.44529995004995004,\n",
       " 0.38571428571428573,\n",
       " 0.37593984962406013,\n",
       " 0.35714285714285715]"
      ]
     },
     "execution_count": 28,
     "metadata": {},
     "output_type": "execute_result"
    }
   ],
   "source": [
    "sorted(a, reverse=True)[:10]"
   ]
  },
  {
   "cell_type": "markdown",
   "metadata": {},
   "source": [
    "#### Now that we normalized coef of budget, we need to normalize popularity. Let us have a look at some values of popularity:"
   ]
  },
  {
   "cell_type": "code",
   "execution_count": 29,
   "metadata": {
    "scrolled": true
   },
   "outputs": [
    {
     "data": {
      "text/plain": [
       "0   150.438\n",
       "1   139.083\n",
       "2   107.377\n",
       "3   112.313\n",
       "4    43.927\n",
       "5   115.700\n",
       "6    48.682\n",
       "7   134.279\n",
       "8    98.886\n",
       "9   155.790\n",
       "Name: popularity, Length: 10, dtype: float64"
      ]
     },
     "execution_count": 29,
     "metadata": {},
     "output_type": "execute_result"
    }
   ],
   "source": [
    "df['popularity'].head(10)"
   ]
  },
  {
   "cell_type": "markdown",
   "metadata": {},
   "source": [
    "#### Least values for popularity are:"
   ]
  },
  {
   "cell_type": "code",
   "execution_count": 30,
   "metadata": {
    "scrolled": false
   },
   "outputs": [
    {
     "data": {
      "text/plain": [
       "[0.019984000000000002,\n",
       " 0.031947000000000003,\n",
       " 0.034258999999999998,\n",
       " 0.037073000000000002,\n",
       " 0.039007]"
      ]
     },
     "execution_count": 30,
     "metadata": {},
     "output_type": "execute_result"
    }
   ],
   "source": [
    "sorted(dfclean3['popularity'], reverse=False)[:5]"
   ]
  },
  {
   "cell_type": "markdown",
   "metadata": {},
   "source": [
    "#### Top values for popularity are:"
   ]
  },
  {
   "cell_type": "code",
   "execution_count": 31,
   "metadata": {
    "scrolled": true
   },
   "outputs": [
    {
     "data": {
      "text/plain": [
       "[875.58130500000004,\n",
       " 724.24778400000002,\n",
       " 514.56995599999993,\n",
       " 481.09862400000003,\n",
       " 434.27856399999996]"
      ]
     },
     "execution_count": 31,
     "metadata": {},
     "output_type": "execute_result"
    }
   ],
   "source": [
    "sorted(dfclean3['popularity'], reverse=True)[:5]"
   ]
  },
  {
   "cell_type": "markdown",
   "metadata": {},
   "source": [
    "#### Normalize popularity values:"
   ]
  },
  {
   "cell_type": "code",
   "execution_count": 32,
   "metadata": {
    "scrolled": true
   },
   "outputs": [
    {
     "name": "stderr",
     "output_type": "stream",
     "text": [
      "C:\\ProgramData\\Anaconda3\\lib\\site-packages\\sklearn\\utils\\validation.py:395: DeprecationWarning: Passing 1d arrays as data is deprecated in 0.17 and will raise ValueError in 0.19. Reshape your data either using X.reshape(-1, 1) if your data has a single feature or X.reshape(1, -1) if it contains a single sample.\n",
      "  DeprecationWarning)\n"
     ]
    },
    {
     "data": {
      "text/plain": [
       "(array([[ 0.17181451,  0.15884603,  0.12263486, ...,  0.00024263,\n",
       "          0.02661997,  0.01629751]]), array([ 875.581305]))"
      ]
     },
     "execution_count": 32,
     "metadata": {},
     "output_type": "execute_result"
    }
   ],
   "source": [
    "b=dfclean3['popularity']\n",
    "\n",
    "preprocessing.normalize(b, norm='max' , axis=1, copy=False, return_norm=True)"
   ]
  },
  {
   "cell_type": "code",
   "execution_count": 33,
   "metadata": {},
   "outputs": [
    {
     "data": {
      "text/plain": [
       "[1.0,\n",
       " 0.8271622290976165,\n",
       " 0.58768951902187982,\n",
       " 0.5494619645859159,\n",
       " 0.49598884937361692,\n",
       " 0.47820636371398995,\n",
       " 0.31061979903739495,\n",
       " 0.27843415752235595,\n",
       " 0.2355316974247183,\n",
       " 0.23268494751609617]"
      ]
     },
     "execution_count": 33,
     "metadata": {},
     "output_type": "execute_result"
    }
   ],
   "source": [
    "sorted(b, reverse=True)[:10]"
   ]
  },
  {
   "cell_type": "markdown",
   "metadata": {},
   "source": [
    "#### Let us plot a histogram of the normalized values for popularity:"
   ]
  },
  {
   "cell_type": "code",
   "execution_count": 34,
   "metadata": {
    "scrolled": true
   },
   "outputs": [
    {
     "data": {
      "image/png": "[encoded data removed]",
      "text/plain": [
       "<matplotlib.figure.Figure at 0x26a9dfca860>"
      ]
     },
     "execution_count": 34,
     "metadata": {},
     "output_type": "execute_result"
    }
   ],
   "source": [
    "import matplotlib.pyplot as plt\n",
    "plt.hist(b)\n",
    "plt.title(\"Popularity Histogram\")\n",
    "plt.xlabel(\"Normalized Popularity Value\")\n",
    "plt.ylabel(\"Frequency\")\n",
    "fig5=plt.gcf()\n",
    "fig5"
   ]
  },
  {
   "cell_type": "markdown",
   "metadata": {},
   "source": [
    "#### Here, we incorporate the formula on success, which we will attribute 50% to the financial side, and 50% to popularity. The top values are:"
   ]
  },
  {
   "cell_type": "code",
   "execution_count": 35,
   "metadata": {
    "collapsed": true
   },
   "outputs": [],
   "source": [
    "success=0.5*a+0.5*b"
   ]
  },
  {
   "cell_type": "code",
   "execution_count": 36,
   "metadata": {
    "scrolled": true
   },
   "outputs": [
    {
     "data": {
      "text/plain": [
       "[0.51164916260974758,\n",
       " 0.51116535677606179,\n",
       " 0.41650371202499875,\n",
       " 0.35974321188661224,\n",
       " 0.31995110213190747,\n",
       " 0.31505081501136506,\n",
       " 0.30928851200978164,\n",
       " 0.30348900802079215,\n",
       " 0.27798026224673944,\n",
       " 0.27602961313399971]"
      ]
     },
     "execution_count": 36,
     "metadata": {},
     "output_type": "execute_result"
    }
   ],
   "source": [
    "sorted(success, reverse=True)[:10]"
   ]
  },
  {
   "cell_type": "markdown",
   "metadata": {},
   "source": [
    "<br> The \"success\" values will be our target values that we are trying to predict.\n",
    "### Below, we import data from the other dataset with credits, and merge our data together. The dimensions are:"
   ]
  },
  {
   "cell_type": "code",
   "execution_count": 37,
   "metadata": {},
   "outputs": [
    {
     "data": {
      "text/plain": [
       "(3106, 24)"
      ]
     },
     "execution_count": 37,
     "metadata": {},
     "output_type": "execute_result"
    }
   ],
   "source": [
    "credit_df = pd.read_csv(\"credits.csv\",dtype=str)[['title', 'cast']]\n",
    "\n",
    "all_df = pd.merge(dfclean3, credit_df, how='inner', left_on='original_title', right_on='title',\n",
    "         left_index=False, right_index=False)\n",
    "all_df.shape"
   ]
  },
  {
   "cell_type": "markdown",
   "metadata": {
    "collapsed": true
   },
   "source": [
    "#### Our target is to classify the data as \"unsuccessful\", \"successful\", and \"very successful\", as in the table below:"
   ]
  },
  {
   "cell_type": "markdown",
   "metadata": {},
   "source": [
    "| Percentile    | Class              |\n",
    "|---------------|--------------------|\n",
    "| p < 10        | Unsuccessful       |\n",
    "| 10 <= p <= 95 | Successful         |\n",
    "| p > 95        | Very Successful    |"
   ]
  },
  {
   "cell_type": "code",
   "execution_count": 38,
   "metadata": {
    "collapsed": true,
    "scrolled": false
   },
   "outputs": [],
   "source": [
    "from scipy.stats import boxcox, percentileofscore\n",
    "import matplotlib.pyplot as plt\n",
    "\n",
    "# transform the success using box-cox transformation\n",
    "success_transformed, maxlog = boxcox(success)\n",
    "\n",
    "# Draw the line at said percentiles\n",
    "\n",
    "success_result = []\n",
    "\n",
    "for val in success_transformed:\n",
    "    p = percentileofscore(success_transformed, val)\n",
    "    if(p < 10):\n",
    "        success_result.append(\"Unsucessful\")\n",
    "    elif(10 <= p <= 95 ):\n",
    "        success_result.append(\"Successful\")\n",
    "    else:\n",
    "        success_result.append(\"Very Successful\")\n",
    "success_result = pd.Series(success_result, dtype = \"category\")"
   ]
  },
  {
   "cell_type": "code",
   "execution_count": 39,
   "metadata": {
    "collapsed": true
   },
   "outputs": [],
   "source": [
    "cast = []\n",
    "\n",
    "for row in all_df['cast']:\n",
    "    try:\n",
    "        dictionary = eval(row)[0]\n",
    "        cast.append(dictionary['name'])\n",
    "    except:\n",
    "        # no cast\n",
    "        cast.append(np.NaN)       \n",
    "cast = pd.Series(cast, dtype = \"category\") "
   ]
  },
  {
   "cell_type": "code",
   "execution_count": 40,
   "metadata": {
    "collapsed": true
   },
   "outputs": [],
   "source": [
    "production_companies = []\n",
    "\n",
    "for row in dfclean2['production_companies']:\n",
    "    dictionary = eval(row)\n",
    "    try:\n",
    "        production_companies.append(dictionary[0]['name'])\n",
    "    except:\n",
    "        # no production comp\n",
    "        production_companies.append(np.NaN)        \n",
    "production_companies = pd.Series(production_companies, dtype = \"category\")"
   ]
  },
  {
   "cell_type": "code",
   "execution_count": 41,
   "metadata": {
    "collapsed": true
   },
   "outputs": [],
   "source": [
    "genres = []\n",
    "\n",
    "for row in dfclean2['genres']:\n",
    "    dictionary = eval(row)\n",
    "    try:\n",
    "        genres.append(dictionary[0]['name'])\n",
    "    except:\n",
    "        # no genres\n",
    "        genres.append(np.NaN)     \n",
    "genres = pd.Series(genres, dtype = \"category\")"
   ]
  },
  {
   "cell_type": "code",
   "execution_count": 42,
   "metadata": {
    "scrolled": false
   },
   "outputs": [
    {
     "data": {
      "text/html": [
       "<div>\n",
       "<style>\n",
       "    .dataframe thead tr:only-child th {\n",
       "        text-align: right;\n",
       "    }\n",
       "\n",
       "    .dataframe thead th {\n",
       "        text-align: left;\n",
       "    }\n",
       "\n",
       "    .dataframe tbody tr th {\n",
       "        vertical-align: top;\n",
       "    }\n",
       "</style>\n",
       "<table border=\"1\" class=\"dataframe\">\n",
       "  <thead>\n",
       "    <tr style=\"text-align: right;\">\n",
       "      <th></th>\n",
       "      <th>production companies</th>\n",
       "      <th>cast</th>\n",
       "      <th>genres</th>\n",
       "      <th>sucess_result</th>\n",
       "      <th>production_code</th>\n",
       "      <th>cast_code</th>\n",
       "      <th>genres_code</th>\n",
       "    </tr>\n",
       "  </thead>\n",
       "  <tbody>\n",
       "    <tr>\n",
       "      <th>0</th>\n",
       "      <td>Ingenious Film Partners</td>\n",
       "      <td>Sam Worthington</td>\n",
       "      <td>Action</td>\n",
       "      <td>Very Successful</td>\n",
       "      <td>327</td>\n",
       "      <td>1025</td>\n",
       "      <td>0</td>\n",
       "    </tr>\n",
       "    <tr>\n",
       "      <th>1</th>\n",
       "      <td>Walt Disney Pictures</td>\n",
       "      <td>Johnny Depp</td>\n",
       "      <td>Adventure</td>\n",
       "      <td>Very Successful</td>\n",
       "      <td>708</td>\n",
       "      <td>598</td>\n",
       "      <td>1</td>\n",
       "    </tr>\n",
       "    <tr>\n",
       "      <th>2</th>\n",
       "      <td>Columbia Pictures</td>\n",
       "      <td>Daniel Craig</td>\n",
       "      <td>Action</td>\n",
       "      <td>Very Successful</td>\n",
       "      <td>143</td>\n",
       "      <td>260</td>\n",
       "      <td>0</td>\n",
       "    </tr>\n",
       "    <tr>\n",
       "      <th>3</th>\n",
       "      <td>Legendary Pictures</td>\n",
       "      <td>Christian Bale</td>\n",
       "      <td>Action</td>\n",
       "      <td>Very Successful</td>\n",
       "      <td>377</td>\n",
       "      <td>213</td>\n",
       "      <td>0</td>\n",
       "    </tr>\n",
       "    <tr>\n",
       "      <th>4</th>\n",
       "      <td>Walt Disney Pictures</td>\n",
       "      <td>Taylor Kitsch</td>\n",
       "      <td>Action</td>\n",
       "      <td>Successful</td>\n",
       "      <td>708</td>\n",
       "      <td>1117</td>\n",
       "      <td>0</td>\n",
       "    </tr>\n",
       "  </tbody>\n",
       "</table>\n",
       "<p>5 rows × 7 columns</p>\n",
       "</div>"
      ],
      "text/plain": [
       "      production companies             cast     genres    sucess_result  \\\n",
       "0  Ingenious Film Partners  Sam Worthington     Action  Very Successful   \n",
       "1     Walt Disney Pictures      Johnny Depp  Adventure  Very Successful   \n",
       "2        Columbia Pictures     Daniel Craig     Action  Very Successful   \n",
       "3       Legendary Pictures   Christian Bale     Action  Very Successful   \n",
       "4     Walt Disney Pictures    Taylor Kitsch     Action       Successful   \n",
       "\n",
       "   production_code  cast_code  genres_code  \n",
       "0              327       1025            0  \n",
       "1              708        598            1  \n",
       "2              143        260            0  \n",
       "3              377        213            0  \n",
       "4              708       1117            0  \n",
       "\n",
       "[5 rows x 7 columns]"
      ]
     },
     "execution_count": 42,
     "metadata": {},
     "output_type": "execute_result"
    }
   ],
   "source": [
    "main_df = pd.concat([production_companies, cast, genres, success_result], axis=1)\n",
    "\n",
    "main_df.columns = [\"production companies\", \"cast\", \"genres\", \"sucess_result\"]\n",
    "\n",
    "main_df[\"production_code\"] = main_df[\"production companies\"].cat.codes\n",
    "main_df[\"cast_code\"] = main_df[\"cast\"].cat.codes\n",
    "main_df[\"genres_code\"] = main_df[\"genres\"].cat.codes\n",
    "\n",
    "main_df.dropna(inplace = True)\n",
    "main_df.head()"
   ]
  },
  {
   "cell_type": "markdown",
   "metadata": {},
   "source": [
    "### The following declares X and y, and builds a random forest classifier from sklearn."
   ]
  },
  {
   "cell_type": "code",
   "execution_count": 43,
   "metadata": {
    "collapsed": true
   },
   "outputs": [],
   "source": [
    "from sklearn.ensemble import RandomForestClassifier\n",
    "from sklearn.metrics import accuracy_score\n",
    "model = RandomForestClassifier(n_estimators=700, max_depth=11, random_state=0)\n",
    "X = main_df[[\"production_code\", \"cast_code\", \"genres_code\"]]\n",
    "y = main_df[\"sucess_result\"]"
   ]
  },
  {
   "cell_type": "markdown",
   "metadata": {},
   "source": [
    "### Below is a histogram with the histogram of our success data points, after cleaning them nicely."
   ]
  },
  {
   "cell_type": "code",
   "execution_count": 44,
   "metadata": {},
   "outputs": [
    {
     "data": {
      "image/png": "[encoded data removed]",
      "text/plain": [
       "<matplotlib.figure.Figure at 0x26a9dfca860>"
      ]
     },
     "metadata": {},
     "output_type": "display_data"
    },
    {
     "data": {
      "image/png": "[encoded data removed]",
      "text/plain": [
       "<matplotlib.figure.Figure at 0x26aa35ffcf8>"
      ]
     },
     "metadata": {},
     "output_type": "display_data"
    }
   ],
   "source": [
    "fig = plt.figure()\n",
    "plt.hist(success_transformed,bins=100)\n",
    "plt.show()"
   ]
  },
  {
   "cell_type": "markdown",
   "metadata": {},
   "source": [
    "### Using Grid Search, we found the optimal depth and n_estimators values for our random forest:"
   ]
  },
  {
   "cell_type": "code",
   "execution_count": 45,
   "metadata": {},
   "outputs": [
    {
     "name": "stderr",
     "output_type": "stream",
     "text": [
      "C:\\ProgramData\\Anaconda3\\lib\\site-packages\\sklearn\\cross_validation.py:44: DeprecationWarning: This module was deprecated in version 0.18 in favor of the model_selection module into which all the refactored classes and functions are moved. Also note that the interface of the new CV iterators are different from that of this module. This module will be removed in 0.20.\n",
      "  \"This module will be removed in 0.20.\", DeprecationWarning)\n",
      "C:\\ProgramData\\Anaconda3\\lib\\site-packages\\sklearn\\grid_search.py:43: DeprecationWarning: This module was deprecated in version 0.18 in favor of the model_selection module into which all the refactored classes and functions are moved. This module will be removed in 0.20.\n",
      "  DeprecationWarning)\n"
     ]
    },
    {
     "name": "stdout",
     "output_type": "stream",
     "text": [
      "{'max_depth': 11, 'n_estimators': 700}\n"
     ]
    }
   ],
   "source": [
    "from sklearn.grid_search import GridSearchCV\n",
    "from sklearn.datasets import make_classification\n",
    "from sklearn.ensemble import RandomForestClassifier\n",
    "# Build a classification task using 3 informative features\n",
    "X, y = make_classification(n_samples=1000,\n",
    "                           n_features=10,\n",
    "                           n_informative=3,\n",
    "                           n_redundant=0,\n",
    "                           n_repeated=0,\n",
    "                           n_classes=2,\n",
    "                           random_state=0,\n",
    "                           shuffle=False)\n",
    "\n",
    "param_grid = { \n",
    "    'n_estimators': [200, 700, 1000],\n",
    "    'max_depth' : [9,10,11],\n",
    "}\n",
    "\n",
    "CV_rfc = GridSearchCV(estimator=model, param_grid=param_grid, cv= 5)\n",
    "CV_rfc.fit(X, y)\n",
    "print (CV_rfc.best_params_)"
   ]
  },
  {
   "cell_type": "markdown",
   "metadata": {},
   "source": [
    "### Below, we separate the training from testing set, and calculate our accuracy"
   ]
  },
  {
   "cell_type": "code",
   "execution_count": 46,
   "metadata": {},
   "outputs": [
    {
     "name": "stdout",
     "output_type": "stream",
     "text": [
      "0.925\n"
     ]
    }
   ],
   "source": [
    "from sklearn.cross_validation import train_test_split\n",
    "# split the data with 80% in the training set \n",
    "X1, X2, y1, y2 = train_test_split(X, y, random_state=0,\n",
    "                                  train_size=0.8)\n",
    "# fit the model on one set of data\n",
    "model.fit(X1, y1)\n",
    "# evaluate the model on the second set of data\n",
    "y2_model = model.predict(X2)\n",
    "finalscore=accuracy_score(y2, y2_model)\n",
    "print(finalscore)"
   ]
  },
  {
   "cell_type": "markdown",
   "metadata": {
    "collapsed": true
   },
   "source": [
    "## We get 92.5% accuracy when cutting the line at 10th and 95th percentiles for success!\n",
    "<br> For future work, we should include more parameters , as suggested on the comments Log notebook.\n",
    "<br> Please have a look at the Log notebook for a full list of my attempts.\n",
    "<br> spoiler: I started with a low %."
   ]
  }
 ],
 "metadata": {
  "anaconda-cloud": {},
  "kernelspec": {
   "display_name": "Python 3",
   "language": "python",
   "name": "python3"
  },
  "language_info": {
   "codemirror_mode": {
    "name": "ipython",
    "version": 3
   },
   "file_extension": ".py",
   "mimetype": "text/x-python",
   "name": "python",
   "nbconvert_exporter": "python",
   "pygments_lexer": "ipython3",
   "version": "3.7.1"
  }
 },
 "nbformat": 4,
 "nbformat_minor": 2
}
